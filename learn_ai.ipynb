{
 "cells": [
  {
   "cell_type": "markdown",
   "id": "7f150369",
   "metadata": {},
   "source": [
    "Projeto Analise de Dados com Machine Learning\n",
    "\n",
    ". Nesse projeto vou utilizar base de dados \"clientes.csv\" para treinar a IA\n",
    ". Dois modelos foram escolhidos para o projeto; RandomForestClassifier e KNeighborsClassifier\n",
    ". Com base no treino farei uma previsao para a base de dados \"novos_clientes.csv\"\n"
   ]
  },
  {
   "cell_type": "code",
   "execution_count": null,
   "id": "0c0ba2fa",
   "metadata": {},
   "outputs": [],
   "source": [
    "# importaçoes necessarias para o projeto\n",
    "\n",
    "import pandas as pd\n",
    "from sklearn.preprocessing import LabelEncoder"
   ]
  },
  {
   "cell_type": "code",
   "execution_count": null,
   "id": "056c0c04",
   "metadata": {},
   "outputs": [],
   "source": [
    "# ler a base de dados \n",
    "\n",
    "clientes= pd.read_csv(\"clientes.csv\")\n",
    "clientes.info()"
   ]
  },
  {
   "cell_type": "code",
   "execution_count": null,
   "id": "bfa60a2f",
   "metadata": {},
   "outputs": [],
   "source": [
    "# converter a coluna profissao para o tipo int()\n",
    "# lembrando que para que o algoritimo funcione sao necessarios dados do tipo numerico\n",
    "\n",
    "conversor1= LabelEncoder()\n",
    "clientes[\"profissao\"]= conversor1.fit_transform(clientes[\"profissao\"])\n",
    "\n",
    "\n",
    "conversor2= LabelEncoder()\n",
    "clientes[\"mix_credito\"]= conversor2.fit_transform(clientes[\"mix_credito\"])\n",
    "\n",
    "conversor3= LabelEncoder()\n",
    "clientes[\"comportamento_pagamento\"]= conversor3.fit_transform(clientes[\"comportamento_pagamento\"])\n",
    "\n",
    "display(clientes.info())\n"
   ]
  },
  {
   "cell_type": "code",
   "execution_count": null,
   "id": "9fa4035c",
   "metadata": {},
   "outputs": [],
   "source": [
    "# separar as informaçoes da base para IA\n",
    "# separar em X e Y\n",
    "# X -> quem eu quero prever(coluna score_credito)\n",
    "# X -> quem eu quero prever -> as outras colunas(todas as colunas que vou usar para fazer a previsao) estes dados necessitam ser numericos\n",
    "\n",
    "y= clientes[\"score_credito\"]\n",
    "x= clientes.drop(columns= [\"score_credito\", \"id_cliente\"])\n",
    "\n",
    "# separando dados de treino e teste\n",
    "from sklearn.model_selection import train_test_split\n",
    "\n",
    "x_treino, x_teste, y_treino, y_teste= train_test_split(x, y, test_size= 0.3)\n"
   ]
  },
  {
   "cell_type": "code",
   "execution_count": null,
   "id": "e70cdfb8",
   "metadata": {},
   "outputs": [],
   "source": [
    "# criar modelo de IA -> prever nota de credito\n",
    "# Arvore de decisao -> RandomForest\n",
    "# Vizinhos Proximos -> KNN\n",
    "\n",
    "# importar o modelo\n",
    "from sklearn.ensemble import RandomForestClassifier\n",
    "from sklearn.neighbors import KNeighborsClassifier\n",
    "\n",
    "# criar o modelo\n",
    "modelo_arvoredecisao= RandomForestClassifier()\n",
    "modelo_knn= KNeighborsClassifier()\n",
    "\n",
    "# treinar o modelo\n",
    "modelo_arvoredecisao.fit(x_treino, y_treino)\n",
    "modelo_knn.fit(x_treino, y_treino)\n",
    "\n"
   ]
  },
  {
   "cell_type": "code",
   "execution_count": null,
   "id": "2a072932",
   "metadata": {},
   "outputs": [],
   "source": [
    "# previsoes\n",
    "previsao_arvore= modelo_arvoredecisao.predict(x_teste)\n",
    "previsao_knn= modelo_knn.predict(x_teste)\n",
    "\n",
    "# acuracia ou precisao\n",
    "from sklearn.metrics import accuracy_score\n",
    "\n",
    "# precisao do modelo arvore de decisao\n",
    "display(accuracy_score(y_teste, previsao_arvore))\n",
    "\n",
    "# precisao do modelo floresta (KNeighborsClassifier)\n",
    "display(accuracy_score(y_teste, previsao_knn))\n",
    "\n",
    "\n"
   ]
  },
  {
   "cell_type": "code",
   "execution_count": null,
   "id": "f5c86280",
   "metadata": {},
   "outputs": [],
   "source": [
    "# melhor modelo e arvore decisao\n",
    "novos_clientes= pd.read_csv(\"novos_clientes.csv\")\n",
    "# display(novos_clientes.info())\n",
    "\n",
    "\n",
    "# converter a coluna profissao para o tipo int()\n",
    "# lembrando que para que o algoritimo funcione sao necessarios dados do tipo numerico\n",
    "\n",
    "conversor1= LabelEncoder()\n",
    "novos_clientes[\"profissao\"]= conversor1.fit_transform(novos_clientes[\"profissao\"])\n",
    "\n",
    "\n",
    "conversor2= LabelEncoder()\n",
    "novos_clientes[\"mix_credito\"]= conversor2.fit_transform(novos_clientes[\"mix_credito\"])\n",
    "\n",
    "conversor3= LabelEncoder()\n",
    "novos_clientes[\"comportamento_pagamento\"]= conversor3.fit_transform(novos_clientes[\"comportamento_pagamento\"])\n",
    "\n",
    "previsao= modelo_arvoredecisao.predict(novos_clientes)\n",
    "\n",
    "novos_clientes[\"score_credito\"]= previsao\n",
    "\n",
    "display(previsao)\n"
   ]
  }
 ],
 "metadata": {
  "kernelspec": {
   "display_name": "Python 3",
   "language": "python",
   "name": "python3"
  },
  "language_info": {
   "codemirror_mode": {
    "name": "ipython",
    "version": 3
   },
   "file_extension": ".py",
   "mimetype": "text/x-python",
   "name": "python",
   "nbconvert_exporter": "python",
   "pygments_lexer": "ipython3",
   "version": "3.11.4"
  }
 },
 "nbformat": 4,
 "nbformat_minor": 5
}
